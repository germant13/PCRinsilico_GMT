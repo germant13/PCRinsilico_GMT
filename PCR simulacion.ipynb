{
 "cells": [
  {
   "cell_type": "code",
   "execution_count": 4,
   "id": "419ed028",
   "metadata": {},
   "outputs": [
    {
     "data": {
      "image/png": "[encoded data removed]",
      "text/plain": [
       "<Figure size 288x432 with 1 Axes>"
      ]
     },
     "metadata": {
      "needs_background": "light"
     },
     "output_type": "display_data"
    }
   ],
   "source": [
    "import matplotlib.pyplot as plt\n",
    "import numpy as np\n",
    "\n",
    "# Función para simular PCR\n",
    "def simulate_pcr(target, fwd_primer, rev_primer):\n",
    "    amplicon_sizes = []\n",
    "    start = 0\n",
    "    while True:\n",
    "        start = target.find(fwd_primer, start)\n",
    "        if start == -1:\n",
    "            break\n",
    "        end = target.find(rev_primer, start + len(fwd_primer))\n",
    "        if end != -1:\n",
    "            amplicon_sizes.append(end + len(rev_primer) - start)\n",
    "        start += 1\n",
    "    return amplicon_sizes\n",
    "\n",
    "# Datos de entrada\n",
    "target = \"ATGGAATTGCCCAATATTATGCACCCGGTCGCGAAGCTGAGCACCGCATTAGCCGCTGCATTGATGCTGAGCGGGTGCATGCCCGGTGAAATCCGCCCGACGATTGGCCAGCAAATGGAAACTGGCGACCAACGGTTTGGCGATCTGGTTTTCCGCCAGCTCGCACCGAATGTCTGGCAGCACACTTCCTATCTCGACATGCCGGGTTTCGGGGCAGTCGCTTCCAACGGTTTGATCGTCAGGGATGGCGGCCGCGTGCTGGTGGTCGATACCGCCTGGACCGATGACCAGACCGCCCAGATCCTCAACTGGATCAAGCAGGAGATCAACCTGCCGGTCGCGCTGGCGGTGGTGACTCACGCGCATCAGGACAAGATGGGCGGTATGGACGCGCTGCATGCGGCGGGGATTGCGACTTATGCCAATGCGTTGTCGAACCAGCTTGCCCCGCAAGAGGGGATGGTTGCGGCGCAACACAGCCTGACTTTCGCCGCCAATGGCTGGGTCGAACCAGCAACCGCGCCCAACTTTGGCCCGCTCAAGGTATTTTACCCCGGCCCCGGCCACACCAGTGACAATATCACCGTTGGGATCGACGGCACCGACATCGCTTTTGGTGGCTGCCTGATCAAGGACAGCAAGGCCAAGTCGCTCGGCAATCTCGGTGATGCCGACACTGAGCACTACGCCGCGTCAGCGCGCGCGTTTGGTGCGGCGTTCCCCAAGGCCAGCATGATCGTGATGAGCCATTCCGCCCCCGATAGCCGCGCCGCAATCACTCATACGGCCCGCATGGCCGACAAGCTGCGCTGA\"\n",
    "fwd_primer = \"ATGGAATTGCCCAATAT\"\n",
    "rev_primer = \"GCCGACAAGCTGCGCTGA\"\n",
    "\n",
    "# Simular PCR\n",
    "amplicon_sizes = simulate_pcr(target, fwd_primer, rev_primer)\n",
    "\n",
    "# Crear un gel simulado\n",
    "plt.figure(figsize=(4, 6))\n",
    "\n",
    "# Simular marcador molecular (ladder)\n",
    "ladder_sizes = [100, 200, 300, 400, 500, 600, 700, 800, 900, 1000]\n",
    "for size in ladder_sizes:\n",
    "    plt.plot([1.2, 1.8], [size, size], color='black', lw=2)\n",
    "\n",
    "# Simular bandas de productos de PCR\n",
    "for size in amplicon_sizes:\n",
    "    plt.plot([2.2, 2.8], [size, size], color='blue', lw=2)\n",
    "\n",
    "# Personalizar la gráfica\n",
    "plt.ylim(0, 1100)\n",
    "plt.xlim(1, 3)\n",
    "plt.gca().invert_yaxis()\n",
    "plt.xticks([1.5, 2.5], ['Ladder', 'PCR Product'])\n",
    "plt.ylabel(\"Tamaño de fragmento (bp)\")\n",
    "if amplicon_sizes:\n",
    "    plt.legend([\"Amplicon\"], loc=\"upper right\")\n",
    "\n",
    "# Mostrar gráfica\n",
    "plt.show()\n"
   ]
  },
  {
   "cell_type": "code",
   "execution_count": 15,
   "id": "7bdb7ef0",
   "metadata": {},
   "outputs": [
    {
     "name": "stdout",
     "output_type": "stream",
     "text": [
      "Tm del cebador forward: 66 °C\n",
      "Tm del cebador reverse: 58 °C\n"
     ]
    },
    {
     "data": {
      "image/png": "[encoded data removed]",
      "text/plain": [
       "<Figure size 288x432 with 1 Axes>"
      ]
     },
     "metadata": {
      "needs_background": "light"
     },
     "output_type": "display_data"
    }
   ],
   "source": [
    "import matplotlib.pyplot as plt\n",
    "import numpy as np\n",
    "\n",
    "# Función para calcular Tm (temperatura de fusión) usando la fórmula básica de Wallace\n",
    "def calculate_tm(primer):\n",
    "    at_count = primer.count('A') + primer.count('T')\n",
    "    gc_count = primer.count('G') + primer.count('C')\n",
    "    return 2 * at_count + 4 * gc_count\n",
    "\n",
    "# Función para simular PCR considerando temperatura y concentraciones\n",
    "def simulate_pcr(target, fwd_primer, rev_primer, temp, mg_conc, salt_conc):\n",
    "    amplicon_sizes = []\n",
    "    start = 0\n",
    "    \n",
    "    # Calcular Tm de los primers\n",
    "    tm_fwd = calculate_tm(fwd_primer)\n",
    "    tm_rev = calculate_tm(rev_primer)\n",
    "    \n",
    "    print(f\"Tm del cebador forward: {tm_fwd} °C\")\n",
    "    print(f\"Tm del cebador reverse: {tm_rev} °C\")\n",
    "\n",
    "    # Considerar umbrales de temperatura y concentración de sales para permitir amplificación\n",
    "    if not (50 <= temp <= 95) or not (0.5 <= mg_conc <= 5) or not (10 <= salt_conc <= 100):\n",
    "        print(\"Condiciones no óptimas para la amplificación.\")\n",
    "        return amplicon_sizes\n",
    "\n",
    "    # La temperatura debe estar dentro de ±5°C del Tm de los primers\n",
    "    if not (tm_fwd - 5 <= temp <= tm_fwd + 5) or not (tm_rev - 5 <= temp <= tm_rev + 5):\n",
    "        print(\"Temperatura de ciclado no compatible con el Tm de los primers.\")\n",
    "        return amplicon_sizes\n",
    "\n",
    "    while True:\n",
    "        start = target.find(fwd_primer, start)\n",
    "        if start == -1:\n",
    "            break\n",
    "        end = target.find(rev_primer, start + len(fwd_primer))\n",
    "        if end != -1:\n",
    "            amplicon_sizes.append(end + len(rev_primer) - start)\n",
    "        start += 1\n",
    "    return amplicon_sizes\n",
    "\n",
    "# Datos de entrada\n",
    "target = \"ATGGAATTGCCCAATATTATGCACCCGGTCGCGAAGCTGAGCACCGCATTAGCCGCTGCATTGATGCTGAGCGGGTGCATGCCCGGTGAAATCCGCCCGACGATTGGCCAGCAAATGGAAACTGGCGACCAACGGTTTGGCGATCTGGTTTTCCGCCAGCTCGCACCGAATGTCTGGCAGCACACTTCCTATCTCGACATGCCGGGTTTCGGGGCAGTCGCTTCCAACGGTTTGATCGTCAGGGATGGCGGCCGCGTGCTGGTGGTCGATACCGCCTGGACCGATGACCAGACCGCCCAGATCCTCAACTGGATCAAGCAGGAGATCAACCTGCCGGTCGCGCTGGCGGTGGTGACTCACGCGCATCAGGACAAGATGGGCGGTATGGACGCGCTGCATGCGGCGGGGATTGCGACTTATGCCAATGCGTTGTCGAACCAGCTTGCCCCGCAAGAGGGGATGGTTGCGGCGCAACACAGCCTGACTTTCGCCGCCAATGGCTGGGTCGAACCAGCAACCGCGCCCAACTTTGGCCCGCTCAAGGTATTTTACCCCGGCCCCGGCCACACCAGTGACAATATCACCGTTGGGATCGACGGCACCGACATCGCTTTTGGTGGCTGCCTGATCAAGGACAGCAAGGCCAAGTCGCTCGGCAATCTCGGTGATGCCGACACTGAGCACTACGCCGCGTCAGCGCGCGCGTTTGGTGCGGCGTTCCCCAAGGCCAGCATGATCGTGATGAGCCATTCCGCCCCCGATAGCCGCGCCGCAATCACTCATACGGCCCGCATGGCCGACAAGCTGCGCTGA\"\n",
    "fwd_primer = \"GCACCCGGTCGCGAAGCTG\"\n",
    "rev_primer = \"GCCGACAAGCTGCGCTG\"\n",
    "\n",
    "# Parámetros de ciclado\n",
    "temp = 62             # Temperatura de hibridación en °C\n",
    "mg_conc = 1.5         # Concentración de MgCl2 en mM\n",
    "salt_conc = 50        # Concentración de sales (NaCl o KCl) en mM\n",
    "\n",
    "# Simular PCR\n",
    "amplicon_sizes = simulate_pcr(target, fwd_primer, rev_primer, temp, mg_conc, salt_conc)\n",
    "\n",
    "# Crear un gel simulado\n",
    "plt.figure(figsize=(4, 6))\n",
    "\n",
    "# Simular marcador molecular (ladder)\n",
    "ladder_sizes = [100, 200, 300, 400, 500, 600, 700, 800, 900, 1000]\n",
    "for size in ladder_sizes:\n",
    "    plt.plot([1.2, 1.8], [size, size], color='black', lw=2)\n",
    "\n",
    "# Simular bandas de productos de PCR\n",
    "for size in amplicon_sizes:\n",
    "    plt.plot([2.2, 2.8], [size, size], color='blue', lw=2)\n",
    "\n",
    "# Personalizar la gráfica\n",
    "plt.ylim(0, 1100)\n",
    "plt.xlim(1, 3)\n",
    "plt.gca().invert_yaxis()\n",
    "plt.xticks([1.5, 2.5], ['Ladder', 'PCR Product'])\n",
    "plt.ylabel(\"Tamaño de fragmento (bp)\")\n",
    "if amplicon_sizes:\n",
    "    plt.legend([\"Amplicon\"], loc=\"upper right\")\n",
    "\n",
    "# Mostrar gráfica\n",
    "plt.show()\n"
   ]
  },
  {
   "cell_type": "code",
   "execution_count": null,
   "id": "b0f2570b",
   "metadata": {},
   "outputs": [],
   "source": []
  }
 ],
 "metadata": {
  "kernelspec": {
   "display_name": "Python 3 (ipykernel)",
   "language": "python",
   "name": "python3"
  },
  "language_info": {
   "codemirror_mode": {
    "name": "ipython",
    "version": 3
   },
   "file_extension": ".py",
   "mimetype": "text/x-python",
   "name": "python",
   "nbconvert_exporter": "python",
   "pygments_lexer": "ipython3",
   "version": "3.7.15"
  }
 },
 "nbformat": 4,
 "nbformat_minor": 5
}
